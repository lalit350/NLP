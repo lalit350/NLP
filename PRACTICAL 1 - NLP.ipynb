{
 "cells": [
  {
   "cell_type": "markdown",
   "id": "818f64cb",
   "metadata": {},
   "source": [
    "1. USE NLTK TO TOKENIZE THE SENTENCE\n",
    "\n",
    "2. USE NLTK TO FIND FREQUENCY DISTRIBUTION OF WORDS\n",
    "\n",
    "3. USE NLTK TO CREATE A BIGRAM COLLECTION FOR THE TEXT \"SENSE AND SENSIBILITY\" BY JANE AUSTEN AND LIST TOP 5 BIGRAMS\n",
    "\n",
    "4. USE NLTK (\"SENSE AND SENSIBILITY\" BY JANE AUSTEN), CALCULATE THE TOTAL NO.OF OF WORDS  AND NO.OF DISCTINCT WORDS\n",
    "\n",
    "5. COMPARE LEXICAL DIVERSITY  OF HUMOR AND ROMANCE FICTION IN NLTK'S TEXT 5 & 2. WHICH GENRE IS MORE LEXICALLY DIVERSE? \n",
    "\n",
    "6. PRODUCE A DISPERSION PLOT OF THE 4 MAIN PROTAGONISTS IN \"SENSE & SENSIBILITY\": ELINOR, MARIANNE, EDWARD & WILLOUGHLY. WHAT      OBSERVATIONS CAN YOU MAKE ABOUT THEIR EXPERINCES IN THE TEXT?\n",
    "\n",
    "7. FIND THE COLLECTION IN NLTK TEXT5 (THE CHAT CORPUS). LIST TOP 5 COLLOCATIONS\n",
    "\n",
    "8. DEFINE THE TWO LISTS PHRASE1, PHRASE2, EACH CONTAINING A FEW WORDS. JOIN THEM TOGETHER TO FORM A SENTENCE"
   ]
  },
  {
   "cell_type": "markdown",
   "id": "d6938915",
   "metadata": {},
   "source": [
    "1. USE NLTK TO TOKENIZE THE SENTENCE"
   ]
  },
  {
   "cell_type": "code",
   "execution_count": 1,
   "id": "96db1317",
   "metadata": {},
   "outputs": [
    {
     "name": "stderr",
     "output_type": "stream",
     "text": [
      "[nltk_data] Downloading package punkt to\n",
      "[nltk_data]     C:\\Users\\Lalit\\AppData\\Roaming\\nltk_data...\n",
      "[nltk_data]   Package punkt is already up-to-date!\n",
      "[nltk_data] Downloading package punkt_tab to\n",
      "[nltk_data]     C:\\Users\\Lalit\\AppData\\Roaming\\nltk_data...\n",
      "[nltk_data]   Package punkt_tab is already up-to-date!\n"
     ]
    },
    {
     "data": {
      "text/plain": [
       "True"
      ]
     },
     "execution_count": 1,
     "metadata": {},
     "output_type": "execute_result"
    }
   ],
   "source": [
    "import nltk\n",
    "from nltk.tokenize import word_tokenize\n",
    "nltk.download('punkt')\n",
    "nltk.download('punkt_tab')"
   ]
  },
  {
   "cell_type": "code",
   "execution_count": 3,
   "id": "31932ab0",
   "metadata": {},
   "outputs": [
    {
     "name": "stdout",
     "output_type": "stream",
     "text": [
      "['Natural', 'language', 'Processing', 'with', 'Python', 'is', 'fun', '!']\n"
     ]
    }
   ],
   "source": [
    "sentence = \"Natural language Processing with Python is fun!\"\n",
    "words = word_tokenize(sentence)\n",
    "print(words)"
   ]
  },
  {
   "cell_type": "markdown",
   "id": "356b6a2f",
   "metadata": {},
   "source": [
    "2. USE NLTK TO FIND FREQUENCY DISTRIBUTION OF WORDS"
   ]
  },
  {
   "cell_type": "code",
   "execution_count": 2,
   "id": "40f6cd98",
   "metadata": {},
   "outputs": [
    {
     "name": "stderr",
     "output_type": "stream",
     "text": [
      "[nltk_data] Downloading package gutenberg to\n",
      "[nltk_data]     C:\\Users\\Lalit\\AppData\\Roaming\\nltk_data...\n",
      "[nltk_data]   Package gutenberg is already up-to-date!\n",
      "[nltk_data] Downloading package punkt to\n",
      "[nltk_data]     C:\\Users\\Lalit\\AppData\\Roaming\\nltk_data...\n",
      "[nltk_data]   Package punkt is already up-to-date!\n"
     ]
    },
    {
     "data": {
      "text/plain": [
       "True"
      ]
     },
     "execution_count": 2,
     "metadata": {},
     "output_type": "execute_result"
    }
   ],
   "source": [
    "import nltk\n",
    "from nltk.tokenize import word_tokenize\n",
    "from nltk.probability import FreqDist\n",
    "nltk.download('gutenberg')\n",
    "nltk.download('punkt')"
   ]
  },
  {
   "cell_type": "code",
   "execution_count": 4,
   "id": "965e4fbb",
   "metadata": {},
   "outputs": [
    {
     "name": "stdout",
     "output_type": "stream",
     "text": [
      "[(',', 19204), ('the', 13715), ('.', 7306), ('of', 6513), ('and', 6010), ('a', 4545), ('to', 4515), (';', 4173), ('in', 3908), ('that', 2981), ('his', 2459), ('it', 2206), ('I', 2121), ('!', 1767), (\"'s\", 1731), ('is', 1722), ('--', 1713), ('he', 1660), ('with', 1659), ('was', 1640), ('as', 1620), (\"''\", 1615), ('``', 1456), ('all', 1444), ('for', 1413), ('this', 1280), ('at', 1230), ('not', 1170), ('by', 1135), ('but', 1110), ('him', 1058), ('from', 1052), ('be', 1027), ('?', 1004), ('on', 1003), ('so', 914), ('one', 881), ('you', 841), ('whale', 788), ('had', 767), ('have', 763), ('there', 713), ('But', 703), ('or', 697), ('were', 679), ('now', 645), ('which', 640), ('me', 624), ('their', 612), ('The', 609)]\n"
     ]
    }
   ],
   "source": [
    "# Load the text of Moby Dick from the Gutenberg corpus\n",
    "moby_dick_text = nltk.corpus.gutenberg.raw('melville-moby_dick.txt')\n",
    "\n",
    "# Tokenize the text into words\n",
    "words = word_tokenize(moby_dick_text)\n",
    "\n",
    "# Calculate the frequency distribution of words\n",
    "fdist = FreqDist(words)\n",
    "\n",
    "# Print the most common words\n",
    "print(fdist.most_common(50))"
   ]
  },
  {
   "cell_type": "markdown",
   "id": "03ec9a88",
   "metadata": {},
   "source": [
    "3. USE NLTK TO CREATE A BIGRAM COLLECTION FOR THE TEXT \"SENSE AND SENSIBILITY\" BY JANE AUSTEN AND LIST TOP 5 BIGRAMS"
   ]
  },
  {
   "cell_type": "code",
   "execution_count": 5,
   "id": "f1b44105",
   "metadata": {},
   "outputs": [
    {
     "name": "stderr",
     "output_type": "stream",
     "text": [
      "[nltk_data] Downloading package gutenberg to\n",
      "[nltk_data]     C:\\Users\\Lalit\\AppData\\Roaming\\nltk_data...\n",
      "[nltk_data]   Package gutenberg is already up-to-date!\n",
      "[nltk_data] Downloading package punkt to\n",
      "[nltk_data]     C:\\Users\\Lalit\\AppData\\Roaming\\nltk_data...\n",
      "[nltk_data]   Package punkt is already up-to-date!\n"
     ]
    },
    {
     "data": {
      "text/plain": [
       "True"
      ]
     },
     "execution_count": 5,
     "metadata": {},
     "output_type": "execute_result"
    }
   ],
   "source": [
    "import nltk\n",
    "from nltk.corpus import gutenberg\n",
    "from nltk.collocations import BigramCollocationFinder\n",
    "from nltk.metrics import BigramAssocMeasures\n",
    "\n",
    "# Download necessary NLTK resources if you haven't already\n",
    "nltk.download('gutenberg')\n",
    "nltk.download('punkt')"
   ]
  },
  {
   "cell_type": "code",
   "execution_count": 6,
   "id": "0dd006b2",
   "metadata": {},
   "outputs": [
    {
     "name": "stdout",
     "output_type": "stream",
     "text": [
      "Top 5 Bigrams:\n",
      "('&', 'c.')\n",
      "('Combe', 'Magna')\n",
      "('burst', 'forth')\n",
      "('near', 'Plymouth')\n",
      "('Harley', 'Street')\n"
     ]
    }
   ],
   "source": [
    "# Load the text of \"Sense and Sensibility\"\n",
    "text = gutenberg.raw('austen-sense.txt')\n",
    "\n",
    "# Tokenize the text into words\n",
    "tokens = nltk.word_tokenize(text)\n",
    "\n",
    "# Create a bigram collocation finder\n",
    "finder = BigramCollocationFinder.from_words(tokens)\n",
    "\n",
    "# Apply frequency filter to consider bigrams that occur at least 5 times\n",
    "finder.apply_freq_filter(5)\n",
    "\n",
    "# Get the top 5 bigrams using Pointwise Mutual Information (PMI) as the scoring measure\n",
    "bigrams = finder.nbest(BigramAssocMeasures.pmi, 5)\n",
    "\n",
    "# Print the top 5 bigrams\n",
    "print(\"Top 5 Bigrams:\")\n",
    "for bigram in bigrams:\n",
    "    print(bigram)"
   ]
  },
  {
   "cell_type": "markdown",
   "id": "2056add5",
   "metadata": {},
   "source": [
    "4. USE NLTK (\"SENSE AND SENSIBILITY\" BY JANE AUSTEN), CALCULATE THE TOTAL NO.OF OF WORDS  AND NO.OF DISCTINCT WORDS"
   ]
  },
  {
   "cell_type": "code",
   "execution_count": 7,
   "id": "fcb8afbd",
   "metadata": {},
   "outputs": [
    {
     "name": "stderr",
     "output_type": "stream",
     "text": [
      "[nltk_data] Downloading package punkt to\n",
      "[nltk_data]     C:\\Users\\Lalit\\AppData\\Roaming\\nltk_data...\n",
      "[nltk_data]   Package punkt is already up-to-date!\n",
      "[nltk_data] Downloading package gutenberg to\n",
      "[nltk_data]     C:\\Users\\Lalit\\AppData\\Roaming\\nltk_data...\n",
      "[nltk_data]   Package gutenberg is already up-to-date!\n"
     ]
    },
    {
     "data": {
      "text/plain": [
       "True"
      ]
     },
     "execution_count": 7,
     "metadata": {},
     "output_type": "execute_result"
    }
   ],
   "source": [
    "import nltk\n",
    "from nltk.util import bigrams\n",
    "from nltk.probability import FreqDist\n",
    "from nltk.tokenize import word_tokenize\n",
    "from nltk.corpus import gutenberg\n",
    "\n",
    "# Download necessary datasets\n",
    "nltk.download('punkt')\n",
    "nltk.download('gutenberg')"
   ]
  },
  {
   "cell_type": "code",
   "execution_count": 8,
   "id": "8069e6c9",
   "metadata": {},
   "outputs": [
    {
     "name": "stdout",
     "output_type": "stream",
     "text": [
      "Total number of words: 141440\n",
      "Number of distinct words: 7078\n"
     ]
    }
   ],
   "source": [
    "# Load the text of \"Sense and Sensibility\"\n",
    "text = gutenberg.raw('austen-sense.txt')\n",
    "\n",
    "# Tokenize the text into words\n",
    "tokens = nltk.word_tokenize(text)\n",
    "\n",
    "# Calculate the total number of words\n",
    "total_words = len(tokens)\n",
    "\n",
    "# Calculate the number of distinct words\n",
    "distinct_words = len(set(tokens))\n",
    "\n",
    "# Print the results\n",
    "print(\"Total number of words:\", total_words)\n",
    "print(\"Number of distinct words:\", distinct_words)"
   ]
  },
  {
   "cell_type": "markdown",
   "id": "67a383c0",
   "metadata": {},
   "source": [
    "5. COMPARE LEXICAL DIVERSITY  OF HUMOR AND ROMANCE FICTION IN NLTK'S TEXT 5 & 2. WHICH GENRE IS MORE LEXICALLY DIVERSE? "
   ]
  },
  {
   "cell_type": "code",
   "execution_count": 9,
   "id": "db5725cf",
   "metadata": {},
   "outputs": [
    {
     "name": "stderr",
     "output_type": "stream",
     "text": [
      "[nltk_data] Downloading package punkt to\n",
      "[nltk_data]     C:\\Users\\Lalit\\AppData\\Roaming\\nltk_data...\n",
      "[nltk_data]   Package punkt is already up-to-date!\n",
      "[nltk_data] Downloading package gutenberg to\n",
      "[nltk_data]     C:\\Users\\Lalit\\AppData\\Roaming\\nltk_data...\n",
      "[nltk_data]   Package gutenberg is already up-to-date!\n",
      "[nltk_data] Downloading package webtext to\n",
      "[nltk_data]     C:\\Users\\Lalit\\AppData\\Roaming\\nltk_data...\n",
      "[nltk_data]   Package webtext is already up-to-date!\n"
     ]
    },
    {
     "data": {
      "text/plain": [
       "True"
      ]
     },
     "execution_count": 9,
     "metadata": {},
     "output_type": "execute_result"
    }
   ],
   "source": [
    "import nltk\n",
    "from nltk.tokenize import word_tokenize\n",
    "from nltk.corpus import gutenberg, webtext\n",
    "\n",
    "# Download necessary datasets\n",
    "nltk.download('punkt')\n",
    "nltk.download('gutenberg')\n",
    "nltk.download('webtext')"
   ]
  },
  {
   "cell_type": "code",
   "execution_count": 10,
   "id": "b527eab9",
   "metadata": {},
   "outputs": [
    {
     "name": "stdout",
     "output_type": "stream",
     "text": [
      "Total words in Sense and Sensibility: 141440\n",
      "Distinct words in Sense and Sensibility: 7078\n",
      "Lexical diversity in Sense and Sensibility: 0.05004242081447964\n",
      "Total words in Humor fiction: 4466\n",
      "Distinct words in Humor fiction: 1166\n",
      "Lexical diversity in Humor fiction: 0.26108374384236455\n",
      "Humor fiction is more lexically diverse.\n"
     ]
    }
   ],
   "source": [
    "# Load the text of \"Sense and Sensibility\" (text2) and humor fiction (text5)\n",
    "text2 = gutenberg.raw('austen-sense.txt')\n",
    "text5 = webtext.raw('singles.txt')\n",
    "\n",
    "# Tokenize the texts into words\n",
    "words_text2 = word_tokenize(text2)\n",
    "words_text5 = word_tokenize(text5)\n",
    "\n",
    "# Compute total and distinct words for both texts\n",
    "total_words_text2 = len(words_text2)\n",
    "distinct_words_text2 = len(set(words_text2))\n",
    "lexical_diversity_text2 = distinct_words_text2 / total_words_text2\n",
    "\n",
    "total_words_text5 = len(words_text5)\n",
    "distinct_words_text5 = len(set(words_text5))\n",
    "lexical_diversity_text5 = distinct_words_text5 / total_words_text5\n",
    "\n",
    "# Print results\n",
    "print(\"Total words in Sense and Sensibility:\", total_words_text2)\n",
    "print(\"Distinct words in Sense and Sensibility:\", distinct_words_text2)\n",
    "print(\"Lexical diversity in Sense and Sensibility:\", lexical_diversity_text2)\n",
    "print(\"Total words in Humor fiction:\", total_words_text5)\n",
    "print(\"Distinct words in Humor fiction:\", distinct_words_text5)\n",
    "print(\"Lexical diversity in Humor fiction:\", lexical_diversity_text5)\n",
    "\n",
    "# Compare lexical diversity\n",
    "if lexical_diversity_text2 > lexical_diversity_text5:\n",
    "    print(\"Romance fiction (Sense and Sensibility) is more lexically diverse.\")\n",
    "else:\n",
    "    print(\"Humor fiction is more lexically diverse.\")"
   ]
  },
  {
   "cell_type": "markdown",
   "id": "f32576f9",
   "metadata": {},
   "source": [
    "6. PRODUCE A DISPERSION PLOT OF THE 4 MAIN PROTAGONISTS IN \"SENSE & SENSIBILITY\": ELINOR, MARIANNE, EDWARD & WILLOUGHLY. WHAT OBSERVATIONS CAN YOU MAKE ABOUT THEIR EXPERINCES IN THE TEXT?"
   ]
  },
  {
   "cell_type": "code",
   "execution_count": 11,
   "id": "720ba7e3",
   "metadata": {},
   "outputs": [
    {
     "name": "stderr",
     "output_type": "stream",
     "text": [
      "[nltk_data] Downloading package punkt to\n",
      "[nltk_data]     C:\\Users\\Lalit\\AppData\\Roaming\\nltk_data...\n",
      "[nltk_data]   Package punkt is already up-to-date!\n",
      "[nltk_data] Downloading package gutenberg to\n",
      "[nltk_data]     C:\\Users\\Lalit\\AppData\\Roaming\\nltk_data...\n",
      "[nltk_data]   Package gutenberg is already up-to-date!\n"
     ]
    },
    {
     "data": {
      "text/plain": [
       "True"
      ]
     },
     "execution_count": 11,
     "metadata": {},
     "output_type": "execute_result"
    }
   ],
   "source": [
    "import nltk\n",
    "from nltk.tokenize import word_tokenize\n",
    "from nltk.corpus import gutenberg\n",
    "import matplotlib.pyplot as plt\n",
    "\n",
    "# Download necessary datasets\n",
    "nltk.download('punkt')\n",
    "nltk.download('gutenberg')"
   ]
  },
  {
   "cell_type": "code",
   "execution_count": 12,
   "id": "274f30c6",
   "metadata": {},
   "outputs": [
    {
     "data": {
      "text/plain": [
       "<Figure size 1200x600 with 0 Axes>"
      ]
     },
     "metadata": {},
     "output_type": "display_data"
    },
    {
     "data": {
      "image/png": "[encoded data removed]",
      "text/plain": [
       "<Figure size 640x480 with 1 Axes>"
      ]
     },
     "metadata": {},
     "output_type": "display_data"
    }
   ],
   "source": [
    "# Load the text of \"Sense and Sensibility\"\n",
    "text = gutenberg.raw('austen-sense.txt')\n",
    "\n",
    "# Tokenize the text into words\n",
    "words = word_tokenize(text)\n",
    "\n",
    "# Create an NLTK Text object\n",
    "text_nltk = nltk.Text(words)\n",
    "\n",
    "# Define the main protagonists\n",
    "protagonists = ['Elinor', 'Marianne', 'Edward', 'Willoughby']\n",
    "\n",
    "# Generate dispersion plot\n",
    "plt.figure(figsize=(12, 6))\n",
    "text_nltk.dispersion_plot(protagonists)\n",
    "plt.show()"
   ]
  },
  {
   "cell_type": "markdown",
   "id": "577718cb",
   "metadata": {},
   "source": [
    "7. FIND THE COLLECTION IN NLTK TEXT5 (THE CHAT CORPUS). LIST TOP 5 COLLOCATIONS"
   ]
  },
  {
   "cell_type": "code",
   "execution_count": 13,
   "id": "bbfd604f",
   "metadata": {},
   "outputs": [
    {
     "name": "stderr",
     "output_type": "stream",
     "text": [
      "[nltk_data] Downloading package punkt to\n",
      "[nltk_data]     C:\\Users\\Lalit\\AppData\\Roaming\\nltk_data...\n",
      "[nltk_data]   Package punkt is already up-to-date!\n",
      "[nltk_data] Downloading package webtext to\n",
      "[nltk_data]     C:\\Users\\Lalit\\AppData\\Roaming\\nltk_data...\n",
      "[nltk_data]   Package webtext is already up-to-date!\n",
      "[nltk_data] Downloading package stopwords to\n",
      "[nltk_data]     C:\\Users\\Lalit\\AppData\\Roaming\\nltk_data...\n",
      "[nltk_data]   Package stopwords is already up-to-date!\n"
     ]
    },
    {
     "data": {
      "text/plain": [
       "True"
      ]
     },
     "execution_count": 13,
     "metadata": {},
     "output_type": "execute_result"
    }
   ],
   "source": [
    "import nltk\n",
    "from nltk.tokenize import word_tokenize\n",
    "from nltk.corpus import webtext\n",
    "\n",
    "# Download necessary datasets\n",
    "nltk.download('punkt')\n",
    "nltk.download('webtext')\n",
    "nltk.download('stopwords')"
   ]
  },
  {
   "cell_type": "code",
   "execution_count": 14,
   "id": "6f3b4f96",
   "metadata": {},
   "outputs": [
    {
     "name": "stdout",
     "output_type": "stream",
     "text": [
      "non smoker; would like; quiet nights; long term; age open\n"
     ]
    }
   ],
   "source": [
    "# Load the text of the Chat Corpus (text5)\n",
    "text5 = webtext.raw('singles.txt')\n",
    "\n",
    "# Tokenize the text into words\n",
    "words_text5 = word_tokenize(text5)\n",
    "\n",
    "# Create an NLTK Text object\n",
    "text_nltk = nltk.Text(words_text5)\n",
    "\n",
    "# Find collocations\n",
    "text_nltk.collocations(num=5)"
   ]
  },
  {
   "cell_type": "markdown",
   "id": "745116e6",
   "metadata": {},
   "source": [
    "8. DEFINE THE TWO LISTS PHRASE1, PHRASE2, EACH CONTAINING A FEW WORDS. JOIN THEM TOGETHER TO FORM A SENTENCE"
   ]
  },
  {
   "cell_type": "code",
   "execution_count": 15,
   "id": "43eea22d",
   "metadata": {},
   "outputs": [
    {
     "name": "stderr",
     "output_type": "stream",
     "text": [
      "[nltk_data] Downloading package punkt to\n",
      "[nltk_data]     C:\\Users\\Lalit\\AppData\\Roaming\\nltk_data...\n",
      "[nltk_data]   Package punkt is already up-to-date!\n",
      "[nltk_data] Downloading package webtext to\n",
      "[nltk_data]     C:\\Users\\Lalit\\AppData\\Roaming\\nltk_data...\n",
      "[nltk_data]   Package webtext is already up-to-date!\n"
     ]
    },
    {
     "data": {
      "text/plain": [
       "True"
      ]
     },
     "execution_count": 15,
     "metadata": {},
     "output_type": "execute_result"
    }
   ],
   "source": [
    "import nltk\n",
    "from nltk.tokenize import word_tokenize\n",
    "from nltk.corpus import webtext\n",
    "\n",
    "# Download necessary datasets\n",
    "nltk.download('punkt')\n",
    "nltk.download('webtext')"
   ]
  },
  {
   "cell_type": "code",
   "execution_count": 16,
   "id": "5cd0f5fc",
   "metadata": {},
   "outputs": [
    {
     "name": "stdout",
     "output_type": "stream",
     "text": [
      "non smoker; would like; quiet nights; long term; age open\n",
      "Hello world this is Python\n"
     ]
    }
   ],
   "source": [
    "# Load the text of the Chat Corpus (text5)\n",
    "text5 = webtext.raw('singles.txt')\n",
    "\n",
    "# Tokenize the text into words\n",
    "words_text5 = word_tokenize(text5)\n",
    "\n",
    "# Create an NLTK Text object\n",
    "text_nltk = nltk.Text(words_text5)\n",
    "\n",
    "# Find collocations\n",
    "text_nltk.collocations(num=5)\n",
    "\n",
    "# Define two lists of words\n",
    "phrase1 = [\"Hello\", \"world\"]\n",
    "phrase2 = [\"this\", \"is\", \"Python\"]\n",
    "\n",
    "# Join them to form a sentence\n",
    "sentence = \" \".join(phrase1 + phrase2)\n",
    "print(sentence)"
   ]
  }
 ],
 "metadata": {
  "kernelspec": {
   "display_name": "Python 3 (ipykernel)",
   "language": "python",
   "name": "python3"
  },
  "language_info": {
   "codemirror_mode": {
    "name": "ipython",
    "version": 3
   },
   "file_extension": ".py",
   "mimetype": "text/x-python",
   "name": "python",
   "nbconvert_exporter": "python",
   "pygments_lexer": "ipython3",
   "version": "3.11.5"
  }
 },
 "nbformat": 4,
 "nbformat_minor": 5
}
