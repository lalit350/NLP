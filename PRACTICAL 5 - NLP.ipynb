{
 "cells": [
  {
   "cell_type": "markdown",
   "id": "b0366097",
   "metadata": {},
   "source": [
    "1.\tWrite a Python program using NLTK to perform part-of-speech tagging on the sentence: \"The quick brown fox jumps over the lazy dog.\"\n",
    "\n",
    "2.\tUsing NLTK, write a function that takes a list of sentences and returns a list of part-of-speech tagged sentences.\n",
    "\n",
    "3.\tExplain how to map the Penn Treebank POS tags to the Universal POS tags using NLTK. Provide a code example that tags a sentence and maps the tags accordingly.\n",
    "\n",
    "4.\tWrite a Python function using NLTK that takes a sentence as input and returns a list of all nouns in the sentence.\n",
    "\n",
    "5.\tUsing the Brown Corpus in NLTK, write a program to find the most common part-of-speech tag in the news category."
   ]
  },
  {
   "cell_type": "markdown",
   "id": "24b3103e",
   "metadata": {},
   "source": [
    "1.\tWrite a Python program using NLTK to perform part-of-speech tagging on the sentence: \"The quick brown fox jumps over the lazy dog.\""
   ]
  },
  {
   "cell_type": "code",
   "execution_count": 1,
   "id": "7ec168ca",
   "metadata": {},
   "outputs": [
    {
     "name": "stderr",
     "output_type": "stream",
     "text": [
      "[nltk_data] Downloading package punkt to\n",
      "[nltk_data]     C:\\Users\\Lalit\\AppData\\Roaming\\nltk_data...\n",
      "[nltk_data]   Package punkt is already up-to-date!\n",
      "[nltk_data] Downloading package averaged_perceptron_tagger to\n",
      "[nltk_data]     C:\\Users\\Lalit\\AppData\\Roaming\\nltk_data...\n",
      "[nltk_data]   Package averaged_perceptron_tagger is already up-to-\n",
      "[nltk_data]       date!\n"
     ]
    },
    {
     "name": "stdout",
     "output_type": "stream",
     "text": [
      "POS Tagged Sentence:\n",
      "[('The', 'DT'), ('quick', 'JJ'), ('brown', 'NN'), ('fox', 'NN'), ('jumps', 'VBZ'), ('over', 'IN'), ('the', 'DT'), ('lazy', 'JJ'), ('dog', 'NN'), ('.', '.')]\n"
     ]
    }
   ],
   "source": [
    "import nltk\n",
    "from nltk import word_tokenize, pos_tag\n",
    "\n",
    "nltk.download('punkt')\n",
    "nltk.download('averaged_perceptron_tagger')\n",
    "\n",
    "sentence = \"The quick brown fox jumps over the lazy dog.\"\n",
    "tokens = word_tokenize(sentence)\n",
    "tagged = pos_tag(tokens)\n",
    "\n",
    "print(\"POS Tagged Sentence:\")\n",
    "print(tagged)\n"
   ]
  },
  {
   "cell_type": "markdown",
   "id": "e35b318e",
   "metadata": {},
   "source": [
    "2.\tUsing NLTK, write a function that takes a list of sentences and returns a list of part-of-speech tagged sentences."
   ]
  },
  {
   "cell_type": "code",
   "execution_count": 3,
   "id": "2b76d972",
   "metadata": {},
   "outputs": [
    {
     "name": "stdout",
     "output_type": "stream",
     "text": [
      "Tagged sentences:\n",
      "[('The', 'DT'), ('quick', 'JJ'), ('brown', 'NN'), ('fox', 'NN'), ('jumps', 'VBZ'), ('over', 'IN'), ('the', 'DT'), ('lazy', 'JJ'), ('dog', 'NN'), ('.', '.')]\n",
      "[('NLTK', 'NNP'), ('is', 'VBZ'), ('a', 'DT'), ('powerful', 'JJ'), ('library', 'NN'), ('for', 'IN'), ('natural', 'JJ'), ('language', 'NN'), ('processing', 'NN'), ('.', '.')]\n"
     ]
    },
    {
     "name": "stderr",
     "output_type": "stream",
     "text": [
      "[nltk_data] Downloading package punkt to\n",
      "[nltk_data]     C:\\Users\\Lalit\\AppData\\Roaming\\nltk_data...\n",
      "[nltk_data]   Package punkt is already up-to-date!\n",
      "[nltk_data] Downloading package averaged_perceptron_tagger to\n",
      "[nltk_data]     C:\\Users\\Lalit\\AppData\\Roaming\\nltk_data...\n",
      "[nltk_data]   Package averaged_perceptron_tagger is already up-to-\n",
      "[nltk_data]       date!\n"
     ]
    }
   ],
   "source": [
    "import nltk\n",
    "from nltk import word_tokenize, pos_tag\n",
    "\n",
    "nltk.download('punkt')\n",
    "nltk.download('averaged_perceptron_tagger')\n",
    "\n",
    "def tag_sentences(sentences):\n",
    "    \"\"\"\n",
    "    Takes a list of sentences and returns a list where each sentence is POS tagged.\n",
    "    \"\"\"\n",
    "    tagged_sentences = [pos_tag(word_tokenize(sentence)) for sentence in sentences]\n",
    "    return tagged_sentences\n",
    "\n",
    "# Example usage:\n",
    "sentences = [\n",
    "    \"The quick brown fox jumps over the lazy dog.\",\n",
    "    \"NLTK is a powerful library for natural language processing.\"\n",
    "]\n",
    "tagged = tag_sentences(sentences)\n",
    "print(\"Tagged sentences:\")\n",
    "for sent in tagged:\n",
    "    print(sent)"
   ]
  },
  {
   "cell_type": "markdown",
   "id": "bca4c570",
   "metadata": {},
   "source": [
    "3.\tExplain how to map the Penn Treebank POS tags to the Universal POS tags using NLTK. Provide a code example that tags a sentence and maps the tags accordingly."
   ]
  },
  {
   "cell_type": "code",
   "execution_count": 6,
   "id": "c34675ea",
   "metadata": {},
   "outputs": [
    {
     "name": "stdout",
     "output_type": "stream",
     "text": [
      "POS-tagged sentence (Universal tagset):\n",
      "[('The', 'DET'), ('quick', 'ADJ'), ('brown', 'NOUN'), ('fox', 'NOUN'), ('jumps', 'VERB'), ('over', 'ADP'), ('the', 'DET'), ('lazy', 'ADJ'), ('dog', 'NOUN'), ('.', '.')]\n"
     ]
    },
    {
     "name": "stderr",
     "output_type": "stream",
     "text": [
      "[nltk_data] Downloading package punkt to\n",
      "[nltk_data]     C:\\Users\\Lalit\\AppData\\Roaming\\nltk_data...\n",
      "[nltk_data]   Package punkt is already up-to-date!\n",
      "[nltk_data] Downloading package averaged_perceptron_tagger to\n",
      "[nltk_data]     C:\\Users\\Lalit\\AppData\\Roaming\\nltk_data...\n",
      "[nltk_data]   Package averaged_perceptron_tagger is already up-to-\n",
      "[nltk_data]       date!\n",
      "[nltk_data] Downloading package universal_tagset to\n",
      "[nltk_data]     C:\\Users\\Lalit\\AppData\\Roaming\\nltk_data...\n",
      "[nltk_data]   Package universal_tagset is already up-to-date!\n"
     ]
    }
   ],
   "source": [
    "import nltk\n",
    "from nltk import word_tokenize, pos_tag\n",
    "\n",
    "nltk.download('punkt')\n",
    "nltk.download('averaged_perceptron_tagger')\n",
    "nltk.download('universal_tagset') # Added download for universal tagset\n",
    "\n",
    "sentence = \"The quick brown fox jumps over the lazy dog.\"\n",
    "tokens = word_tokenize(sentence)\n",
    "# Tag using Universal tagset\n",
    "tagged_universal = pos_tag(tokens, tagset='universal')\n",
    "print(\"POS-tagged sentence (Universal tagset):\")\n",
    "print(tagged_universal)"
   ]
  },
  {
   "cell_type": "markdown",
   "id": "8851305e",
   "metadata": {},
   "source": [
    "4.\tWrite a Python function using NLTK that takes a sentence as input and returns a list of all nouns in the sentence."
   ]
  },
  {
   "cell_type": "code",
   "execution_count": 7,
   "id": "07d6c306",
   "metadata": {},
   "outputs": [
    {
     "name": "stdout",
     "output_type": "stream",
     "text": [
      "Nouns in the sentence:\n",
      "['brown', 'fox', 'dog']\n"
     ]
    },
    {
     "name": "stderr",
     "output_type": "stream",
     "text": [
      "[nltk_data] Downloading package punkt to\n",
      "[nltk_data]     C:\\Users\\Lalit\\AppData\\Roaming\\nltk_data...\n",
      "[nltk_data]   Package punkt is already up-to-date!\n",
      "[nltk_data] Downloading package averaged_perceptron_tagger to\n",
      "[nltk_data]     C:\\Users\\Lalit\\AppData\\Roaming\\nltk_data...\n",
      "[nltk_data]   Package averaged_perceptron_tagger is already up-to-\n",
      "[nltk_data]       date!\n",
      "[nltk_data] Downloading package universal_tagset to\n",
      "[nltk_data]     C:\\Users\\Lalit\\AppData\\Roaming\\nltk_data...\n",
      "[nltk_data]   Package universal_tagset is already up-to-date!\n"
     ]
    }
   ],
   "source": [
    "import nltk\n",
    "from nltk import word_tokenize, pos_tag\n",
    "\n",
    "nltk.download('punkt')\n",
    "nltk.download('averaged_perceptron_tagger')\n",
    "nltk.download('universal_tagset')\n",
    "\n",
    "def extract_nouns(sentence):\n",
    "    tokens = word_tokenize(sentence)\n",
    "    tagged = pos_tag(tokens, tagset='universal')\n",
    "    # Filter for nouns; note: some proper nouns may be tagged as NOUN in the universal tagset\n",
    "    nouns = [word for word, tag in tagged if tag == 'NOUN']\n",
    "    return nouns\n",
    "\n",
    "# Example usage:\n",
    "sentence = \"The quick brown fox jumps over the lazy dog.\"\n",
    "nouns = extract_nouns(sentence)\n",
    "print(\"Nouns in the sentence:\")\n",
    "print(nouns)"
   ]
  },
  {
   "cell_type": "markdown",
   "id": "a9958455",
   "metadata": {},
   "source": [
    "5.\tUsing the Brown Corpus in NLTK, write a program to find the most common part-of-speech tag in the news category."
   ]
  },
  {
   "cell_type": "code",
   "execution_count": 8,
   "id": "ec35fd70",
   "metadata": {},
   "outputs": [
    {
     "name": "stderr",
     "output_type": "stream",
     "text": [
      "[nltk_data] Downloading package brown to\n",
      "[nltk_data]     C:\\Users\\Lalit\\AppData\\Roaming\\nltk_data...\n",
      "[nltk_data]   Package brown is already up-to-date!\n"
     ]
    },
    {
     "name": "stdout",
     "output_type": "stream",
     "text": [
      "Most common POS tag in the Brown 'news' category:\n",
      "('NN', 13162)\n"
     ]
    }
   ],
   "source": [
    "import nltk\n",
    "from nltk.corpus import brown\n",
    "from nltk import FreqDist\n",
    "\n",
    "nltk.download('brown')\n",
    "\n",
    "# Get tagged words from the 'news' category\n",
    "tagged_words = brown.tagged_words(categories='news')\n",
    "# Extract just the POS tags (the second element in each tuple)\n",
    "tags = [tag for (word, tag) in tagged_words]\n",
    "\n",
    "# Compute frequency distribution of tags\n",
    "freq_dist = FreqDist(tags)\n",
    "most_common_tag = freq_dist.most_common(1)[0]\n",
    "\n",
    "print(\"Most common POS tag in the Brown 'news' category:\")\n",
    "print(most_common_tag)"
   ]
  }
 ],
 "metadata": {
  "kernelspec": {
   "display_name": "Python 3 (ipykernel)",
   "language": "python",
   "name": "python3"
  },
  "language_info": {
   "codemirror_mode": {
    "name": "ipython",
    "version": 3
   },
   "file_extension": ".py",
   "mimetype": "text/x-python",
   "name": "python",
   "nbconvert_exporter": "python",
   "pygments_lexer": "ipython3",
   "version": "3.11.5"
  }
 },
 "nbformat": 4,
 "nbformat_minor": 5
}
