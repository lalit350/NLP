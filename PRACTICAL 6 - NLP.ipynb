{
 "cells": [
  {
   "cell_type": "markdown",
   "id": "7fdd58c5",
   "metadata": {},
   "source": [
    "1.\tUsing the names corpus in NLTK, build a gender classifier that predicts whether a name is male or female based on the last letter of the name. Evaluate its accuracy.\n",
    "\n",
    "2.\tEnhance the gender classifier by including features such as the first letter and the length of the name. Evaluate if these features improve the classifier's accuracy.\n",
    "\n",
    "3.\tUsing the movie_reviews corpus in NLTK, build a document classifier to categorize movie reviews as positive or negative. Evaluate its performance.\n",
    "\n",
    "4.\tImplement a custom feature extractor for the movie review classifier that considers bigrams (pairs of consecutive words) in addition to unigrams (single words). Evaluate its impact on classification accuracy.\n",
    "\n",
    "5.\tBuild a Naive Bayes classifier using the names corpus to predict gender based on both the first and last letters of a name. Evaluate the model's accuracy."
   ]
  },
  {
   "cell_type": "markdown",
   "id": "26fff8c8",
   "metadata": {},
   "source": [
    "1.\tUsing the names corpus in NLTK, build a gender classifier that predicts whether a name is male or female based on the last letter of the name. Evaluate its accuracy."
   ]
  },
  {
   "cell_type": "code",
   "execution_count": 1,
   "id": "53070d95",
   "metadata": {},
   "outputs": [
    {
     "name": "stderr",
     "output_type": "stream",
     "text": [
      "[nltk_data] Downloading package names to\n",
      "[nltk_data]     C:\\Users\\Lalit\\AppData\\Roaming\\nltk_data...\n"
     ]
    },
    {
     "name": "stdout",
     "output_type": "stream",
     "text": [
      "Accuracy: 74.77%\n",
      "Most Informative Features\n",
      "             last_letter = 'a'            female : male   =     33.0 : 1.0\n",
      "             last_letter = 'k'              male : female =     28.5 : 1.0\n",
      "             last_letter = 'f'              male : female =     22.2 : 1.0\n",
      "             last_letter = 'v'              male : female =     15.4 : 1.0\n",
      "             last_letter = 'd'              male : female =      9.8 : 1.0\n"
     ]
    },
    {
     "name": "stderr",
     "output_type": "stream",
     "text": [
      "[nltk_data]   Unzipping corpora\\names.zip.\n"
     ]
    }
   ],
   "source": [
    "import nltk\n",
    "from nltk.corpus import names\n",
    "from nltk import NaiveBayesClassifier\n",
    "from sklearn.model_selection import train_test_split\n",
    "import random\n",
    "\n",
    "# Make sure to download required NLTK resources\n",
    "nltk.download('names')\n",
    "\n",
    "# Extract features: last letter of the name\n",
    "def gender_features(name):\n",
    "    return {'last_letter': name[-1]}\n",
    "\n",
    "# Load male and female names\n",
    "male_names = names.words('male.txt')\n",
    "female_names = names.words('female.txt')\n",
    "\n",
    "# Create labeled dataset using the last letter as a feature\n",
    "labeled_names = [(name, 'male') for name in male_names] + [(name, 'female') for name in female_names]\n",
    "\n",
    "# Shuffle the dataset to avoid any bias in ordering\n",
    "random.shuffle(labeled_names)\n",
    "\n",
    "# Extract features and labels\n",
    "featuresets = [(gender_features(name), gender) for (name, gender) in labeled_names]\n",
    "\n",
    "# Split the dataset into training and testing sets\n",
    "train_set, test_set = train_test_split(featuresets, test_size=0.25, random_state=42)\n",
    "\n",
    "# Train a Naive Bayes classifier\n",
    "classifier = NaiveBayesClassifier.train(train_set)\n",
    "\n",
    "# Evaluate accuracy\n",
    "accuracy = nltk.classify.accuracy(classifier, test_set)\n",
    "print(f\"Accuracy: {accuracy * 100:.2f}%\")\n",
    "\n",
    "# Show the most informative features\n",
    "classifier.show_most_informative_features(5)\n"
   ]
  },
  {
   "cell_type": "markdown",
   "id": "8f3e26f9",
   "metadata": {},
   "source": [
    "2.\tEnhance the gender classifier by including features such as the first letter and the length of the name. Evaluate if these features improve the classifier's accuracy."
   ]
  },
  {
   "cell_type": "code",
   "execution_count": 3,
   "id": "b7d25cde",
   "metadata": {},
   "outputs": [
    {
     "name": "stdout",
     "output_type": "stream",
     "text": [
      "Accuracy: 77.04%\n",
      "Most Informative Features\n",
      "             last_letter = 'a'            female : male   =     36.2 : 1.0\n",
      "             last_letter = 'k'              male : female =     26.3 : 1.0\n",
      "             last_letter = 'f'              male : female =     15.2 : 1.0\n",
      "             last_letter = 'm'              male : female =     10.2 : 1.0\n",
      "             last_letter = 'd'              male : female =      8.6 : 1.0\n"
     ]
    },
    {
     "name": "stderr",
     "output_type": "stream",
     "text": [
      "[nltk_data] Downloading package names to\n",
      "[nltk_data]     C:\\Users\\Lalit\\AppData\\Roaming\\nltk_data...\n",
      "[nltk_data]   Package names is already up-to-date!\n"
     ]
    }
   ],
   "source": [
    "import nltk\n",
    "from nltk.corpus import names\n",
    "from nltk import NaiveBayesClassifier\n",
    "from sklearn.model_selection import train_test_split\n",
    "import random\n",
    "\n",
    "# Make sure to download required NLTK resources\n",
    "nltk.download('names')\n",
    "\n",
    "# Extract multiple features: first letter, last letter, and length of the name\n",
    "def gender_features(name):\n",
    "    return {\n",
    "        'first_letter': name[0],\n",
    "        'last_letter': name[-1],\n",
    "        'length': len(name)\n",
    "    }\n",
    "\n",
    "# Load male and female names\n",
    "male_names = names.words('male.txt')\n",
    "female_names = names.words('female.txt')\n",
    "\n",
    "# Create labeled dataset using the first letter, last letter, and length of the name as features\n",
    "labeled_names = [(name, 'male') for name in male_names] + [(name, 'female') for name in female_names]\n",
    "\n",
    "# Shuffle the dataset to avoid any bias in ordering\n",
    "random.shuffle(labeled_names)\n",
    "\n",
    "# Extract features and labels\n",
    "featuresets = [(gender_features(name), gender) for (name, gender) in labeled_names]\n",
    "\n",
    "# Split the dataset into training and testing sets\n",
    "train_set, test_set = train_test_split(featuresets, test_size=0.25, random_state=42)\n",
    "\n",
    "# Train a Naive Bayes classifier\n",
    "classifier = NaiveBayesClassifier.train(train_set)\n",
    "\n",
    "# Evaluate accuracy\n",
    "accuracy = nltk.classify.accuracy(classifier, test_set)\n",
    "print(f\"Accuracy: {accuracy * 100:.2f}%\")\n",
    "\n",
    "# Show the most informative features\n",
    "classifier.show_most_informative_features(5)"
   ]
  },
  {
   "cell_type": "markdown",
   "id": "df5575d4",
   "metadata": {},
   "source": [
    "3.\tUsing the movie_reviews corpus in NLTK, build a document classifier to categorize movie reviews as positive or negative. Evaluate its performance."
   ]
  },
  {
   "cell_type": "code",
   "execution_count": 4,
   "id": "c69c12cd",
   "metadata": {},
   "outputs": [
    {
     "name": "stderr",
     "output_type": "stream",
     "text": [
      "[nltk_data] Downloading package movie_reviews to\n",
      "[nltk_data]     C:\\Users\\Lalit\\AppData\\Roaming\\nltk_data...\n",
      "[nltk_data]   Unzipping corpora\\movie_reviews.zip.\n",
      "[nltk_data] Downloading package stopwords to\n",
      "[nltk_data]     C:\\Users\\Lalit\\AppData\\Roaming\\nltk_data...\n",
      "[nltk_data]   Package stopwords is already up-to-date!\n",
      "[nltk_data] Downloading package punkt to\n",
      "[nltk_data]     C:\\Users\\Lalit\\AppData\\Roaming\\nltk_data...\n",
      "[nltk_data]   Package punkt is already up-to-date!\n"
     ]
    },
    {
     "name": "stdout",
     "output_type": "stream",
     "text": [
      "Accuracy: 74.00%\n",
      "Most Informative Features\n",
      "               ludicrous = True              neg : pos    =     14.4 : 1.0\n",
      "              astounding = True              pos : neg    =     11.8 : 1.0\n",
      "                  avoids = True              pos : neg    =     11.8 : 1.0\n",
      "                  regard = True              pos : neg    =     11.1 : 1.0\n",
      "             outstanding = True              pos : neg    =     10.9 : 1.0\n",
      "                   sucks = True              neg : pos    =     10.5 : 1.0\n",
      "             fascination = True              pos : neg    =     10.4 : 1.0\n",
      "                seamless = True              pos : neg    =     10.4 : 1.0\n",
      "                    slip = True              pos : neg    =     10.4 : 1.0\n",
      "                thematic = True              pos : neg    =     10.4 : 1.0\n"
     ]
    }
   ],
   "source": [
    "import nltk\n",
    "from nltk.corpus import movie_reviews\n",
    "from nltk.classify import NaiveBayesClassifier\n",
    "from nltk.corpus import stopwords\n",
    "import random\n",
    "\n",
    "# Make sure to download required NLTK resources\n",
    "nltk.download('movie_reviews')\n",
    "nltk.download('stopwords')\n",
    "nltk.download('punkt')\n",
    "\n",
    "# Preprocess the data: Tokenize the reviews and extract features\n",
    "def word_features(words):\n",
    "    stop_words = set(stopwords.words('english'))\n",
    "    # We consider only non-stop words as features\n",
    "    return {word: True for word in words if word.isalpha() and word not in stop_words}\n",
    "\n",
    "# Load the movie_reviews corpus\n",
    "positive_reviews = movie_reviews.categories('pos')\n",
    "negative_reviews = movie_reviews.categories('neg')\n",
    "\n",
    "# Create a list of labeled reviews\n",
    "documents = []\n",
    "for category in movie_reviews.categories():\n",
    "    for fileid in movie_reviews.fileids(category):\n",
    "        documents.append((movie_reviews.words(fileid), category))\n",
    "\n",
    "# Shuffle the documents to ensure a random distribution\n",
    "random.shuffle(documents)\n",
    "\n",
    "# Extract features for all reviews\n",
    "featuresets = [(word_features(words), category) for (words, category) in documents]\n",
    "\n",
    "# Split the data into training and testing sets\n",
    "train_set, test_set = featuresets[100:], featuresets[:100]\n",
    "\n",
    "# Train a Naive Bayes classifier\n",
    "classifier = NaiveBayesClassifier.train(train_set)\n",
    "\n",
    "# Evaluate accuracy\n",
    "accuracy = nltk.classify.accuracy(classifier, test_set)\n",
    "print(f\"Accuracy: {accuracy * 100:.2f}%\")\n",
    "\n",
    "# Show the most informative features\n",
    "classifier.show_most_informative_features(10)"
   ]
  },
  {
   "cell_type": "markdown",
   "id": "14130817",
   "metadata": {},
   "source": [
    "4.\tImplement a custom feature extractor for the movie review classifier that considers bigrams (pairs of consecutive words) in addition to unigrams (single words). Evaluate its impact on classification accuracy."
   ]
  },
  {
   "cell_type": "code",
   "execution_count": 5,
   "id": "96123414",
   "metadata": {},
   "outputs": [
    {
     "name": "stderr",
     "output_type": "stream",
     "text": [
      "[nltk_data] Downloading package movie_reviews to\n",
      "[nltk_data]     C:\\Users\\Lalit\\AppData\\Roaming\\nltk_data...\n",
      "[nltk_data]   Package movie_reviews is already up-to-date!\n",
      "[nltk_data] Downloading package stopwords to\n",
      "[nltk_data]     C:\\Users\\Lalit\\AppData\\Roaming\\nltk_data...\n",
      "[nltk_data]   Package stopwords is already up-to-date!\n",
      "[nltk_data] Downloading package punkt to\n",
      "[nltk_data]     C:\\Users\\Lalit\\AppData\\Roaming\\nltk_data...\n",
      "[nltk_data]   Package punkt is already up-to-date!\n"
     ]
    },
    {
     "name": "stdout",
     "output_type": "stream",
     "text": [
      "Accuracy with Unigrams + Bigrams: 70.00%\n",
      "Most Informative Features\n",
      "      bigram_is_terrific = True              pos : neg    =     16.7 : 1.0\n",
      "        bigram_not_funny = True              neg : pos    =     15.9 : 1.0\n",
      "         bigram_be_funny = True              neg : pos    =     14.4 : 1.0\n",
      "       bigram_and_boring = True              neg : pos    =     13.9 : 1.0\n",
      "             outstanding = True              pos : neg    =     13.2 : 1.0\n",
      "       bigram_is_perfect = True              pos : neg    =     13.2 : 1.0\n",
      "          bigram_&_robin = True              neg : pos    =     12.5 : 1.0\n",
      "         bigram_batman_& = True              neg : pos    =     12.5 : 1.0\n",
      "                  avoids = True              pos : neg    =     12.1 : 1.0\n",
      "        bigram_._cameron = True              pos : neg    =     12.1 : 1.0\n"
     ]
    }
   ],
   "source": [
    "import nltk\n",
    "from nltk.corpus import movie_reviews\n",
    "from nltk.classify import NaiveBayesClassifier\n",
    "from nltk.corpus import stopwords\n",
    "from nltk.util import bigrams\n",
    "import random\n",
    "\n",
    "# Make sure to download required NLTK resources\n",
    "nltk.download('movie_reviews')\n",
    "nltk.download('stopwords')\n",
    "nltk.download('punkt')\n",
    "\n",
    "# Preprocess the data: Tokenize the reviews and extract both unigrams and bigrams as features\n",
    "def extract_features(words):\n",
    "    stop_words = set(stopwords.words('english'))\n",
    "\n",
    "    # Generate unigrams and bigrams, filtering out non-alphabetic words and stopwords\n",
    "    unigrams = {word: True for word in words if word.isalpha() and word not in stop_words}\n",
    "    bigram_list = bigrams(words)  # Generate bigrams (pairs of consecutive words)\n",
    "\n",
    "    # Combine unigrams and bigrams\n",
    "    bigram_features = {f'bigram_{bigram[0]}_{bigram[1]}': True for bigram in bigram_list}\n",
    "\n",
    "    # Combine both unigrams and bigrams into one feature set\n",
    "    features = {**unigrams, **bigram_features}\n",
    "\n",
    "    return features\n",
    "\n",
    "# Load the movie_reviews corpus\n",
    "documents = []\n",
    "for category in movie_reviews.categories():\n",
    "    for fileid in movie_reviews.fileids(category):\n",
    "        documents.append((movie_reviews.words(fileid), category))\n",
    "\n",
    "# Shuffle the documents to avoid any bias in ordering\n",
    "random.shuffle(documents)\n",
    "\n",
    "# Extract features for all reviews\n",
    "featuresets = [(extract_features(words), category) for (words, category) in documents]\n",
    "\n",
    "# Split the data into training and testing sets\n",
    "train_set, test_set = featuresets[100:], featuresets[:100]\n",
    "\n",
    "# Train a Naive Bayes classifier\n",
    "classifier = NaiveBayesClassifier.train(train_set)\n",
    "\n",
    "# Evaluate accuracy\n",
    "accuracy = nltk.classify.accuracy(classifier, test_set)\n",
    "print(f\"Accuracy with Unigrams + Bigrams: {accuracy * 100:.2f}%\")\n",
    "\n",
    "# Show the most informative features\n",
    "classifier.show_most_informative_features(10)\n"
   ]
  },
  {
   "cell_type": "markdown",
   "id": "0095e79c",
   "metadata": {},
   "source": [
    "5.\tBuild a Naive Bayes classifier using the names corpus to predict gender based on both the first and last letters of a name. Evaluate the model's accuracy."
   ]
  },
  {
   "cell_type": "code",
   "execution_count": 7,
   "id": "fb0d481c",
   "metadata": {},
   "outputs": [
    {
     "name": "stdout",
     "output_type": "stream",
     "text": [
      "Accuracy: 77.74%\n",
      "Most Informative Features\n",
      "             last_letter = 'k'              male : female =     35.1 : 1.0\n",
      "             last_letter = 'a'            female : male   =     32.3 : 1.0\n",
      "             last_letter = 'f'              male : female =     13.0 : 1.0\n",
      "             last_letter = 'p'              male : female =     10.4 : 1.0\n",
      "             last_letter = 'o'              male : female =     10.1 : 1.0\n"
     ]
    },
    {
     "name": "stderr",
     "output_type": "stream",
     "text": [
      "[nltk_data] Downloading package names to\n",
      "[nltk_data]     C:\\Users\\Lalit\\AppData\\Roaming\\nltk_data...\n",
      "[nltk_data]   Package names is already up-to-date!\n"
     ]
    }
   ],
   "source": [
    "import nltk\n",
    "from nltk.corpus import names\n",
    "from nltk.classify import NaiveBayesClassifier\n",
    "from sklearn.model_selection import train_test_split\n",
    "import random\n",
    "\n",
    "# Make sure to download the necessary NLTK resources\n",
    "nltk.download('names')\n",
    "\n",
    "# Feature extractor: first and last letter of the name\n",
    "def gender_features(name):\n",
    "    return {\n",
    "        'first_letter': name[0],  # First letter of the name\n",
    "        'last_letter': name[-1]   # Last letter of the name\n",
    "    }\n",
    "\n",
    "# Load male and female names from the NLTK names corpus\n",
    "male_names = names.words('male.txt')\n",
    "female_names = names.words('female.txt')\n",
    "\n",
    "# Create a labeled dataset using the first and last letters of each name\n",
    "labeled_names = [(name, 'male') for name in male_names] + [(name, 'female') for name in female_names]\n",
    "\n",
    "# Shuffle the dataset to avoid any bias in ordering\n",
    "random.shuffle(labeled_names)\n",
    "\n",
    "# Extract features for all names\n",
    "featuresets = [(gender_features(name), gender) for (name, gender) in labeled_names]\n",
    "\n",
    "# Split the dataset into training and testing sets\n",
    "train_set, test_set = train_test_split(featuresets, test_size=0.25, random_state=42)\n",
    "\n",
    "# Train a Naive Bayes classifier\n",
    "classifier = NaiveBayesClassifier.train(train_set)\n",
    "\n",
    "# Evaluate accuracy\n",
    "accuracy = nltk.classify.accuracy(classifier, test_set)\n",
    "print(f\"Accuracy: {accuracy * 100:.2f}%\")\n",
    "\n",
    "# Show the most informative features\n",
    "classifier.show_most_informative_features(5)\n"
   ]
  }
 ],
 "metadata": {
  "kernelspec": {
   "display_name": "Python 3 (ipykernel)",
   "language": "python",
   "name": "python3"
  },
  "language_info": {
   "codemirror_mode": {
    "name": "ipython",
    "version": 3
   },
   "file_extension": ".py",
   "mimetype": "text/x-python",
   "name": "python",
   "nbconvert_exporter": "python",
   "pygments_lexer": "ipython3",
   "version": "3.11.5"
  }
 },
 "nbformat": 4,
 "nbformat_minor": 5
}
