{
 "cells": [
  {
   "cell_type": "markdown",
   "id": "450a0ff6",
   "metadata": {},
   "source": [
    "1.\t(A)  Use the inaugural address corpus to find the total number of words and the total number of unique words in the inaugural addresses delivered in the 21st century.\n",
    "\n",
    "1. (B) FIRST 20 WORDS IN INAUGURAL\n",
    "\n",
    "2. (A) Write a Python program to find the frequency distribution of the words \"democracy\", \"freedom\", \"liberty\", and \"equality\" in all inaugural addresses using NLTK. [WITHOUT GRAPH]\n",
    "\n",
    "2. (B) WITH GRAPH\n",
    "\n",
    "3. Write a Python program to display the 5 most common words in the text of \"Sense and Sensibility\" by Jane Austen using the Gutenberg Corpus.\n",
    "\n",
    "4.\tGenerate a conditional frequency distribution of modal verbs ('can', 'could', 'may', 'might', 'must', 'will') across the categories of the Brown Corpus\n",
    "\n",
    "5.\tWrite a Python program to identify the longest word in \"Moby Dick\" from the Gutenberg Corpus.\n",
    "\n",
    "6.\tUsing the Brown Corpus, calculate the frequency of the word \"government\" across all categories.\n",
    "\n",
    "7.\tWrite a Python program using the Reuters Corpus to find the number of documents categorized under \"crude\"."
   ]
  },
  {
   "cell_type": "markdown",
   "id": "5a8b5440",
   "metadata": {},
   "source": [
    "1.\t(A) Use the inaugural address corpus to find the total number of words and the total number of unique words in the inaugural addresses delivered in the 21st century."
   ]
  },
  {
   "cell_type": "code",
   "execution_count": 16,
   "id": "f7319716",
   "metadata": {},
   "outputs": [
    {
     "name": "stderr",
     "output_type": "stream",
     "text": [
      "[nltk_data] Downloading package inaugural to\n",
      "[nltk_data]     C:\\Users\\Lalit\\AppData\\Roaming\\nltk_data...\n",
      "[nltk_data]   Package inaugural is already up-to-date!\n",
      "[nltk_data] Downloading package punkt to\n",
      "[nltk_data]     C:\\Users\\Lalit\\AppData\\Roaming\\nltk_data...\n",
      "[nltk_data]   Package punkt is already up-to-date!\n"
     ]
    },
    {
     "name": "stdout",
     "output_type": "stream",
     "text": [
      "Total words: 17141\n",
      "Unique words: 2945\n"
     ]
    }
   ],
   "source": [
    "import nltk\n",
    "from nltk.corpus import inaugural\n",
    "from nltk import word_tokenize\n",
    "\n",
    "# Download required resources\n",
    "nltk.download('inaugural')\n",
    "nltk.download('punkt')\n",
    "\n",
    "# Filter files from the 21st century\n",
    "twenty_first_century_files = [fileid for fileid in inaugural.fileids() if int(fileid[:4]) >= 2001]\n",
    "\n",
    "# Collect words\n",
    "words = []\n",
    "for fileid in twenty_first_century_files:\n",
    "    words += word_tokenize(inaugural.raw(fileid))\n",
    "\n",
    "# Total and unique word counts\n",
    "total_words = len(words)\n",
    "unique_words = len(set(words))\n",
    "\n",
    "print(\"Total words:\", total_words)\n",
    "print(\"Unique words:\", unique_words)\n"
   ]
  },
  {
   "cell_type": "markdown",
   "id": "582726fc",
   "metadata": {},
   "source": [
    "1. (B) FIRST 20 WORDS IN INAUGURAL"
   ]
  },
  {
   "cell_type": "code",
   "execution_count": 18,
   "id": "6e9766f4",
   "metadata": {},
   "outputs": [
    {
     "name": "stdout",
     "output_type": "stream",
     "text": [
      "First 20 words of the 1861 inaugural address:\n",
      "['Fellow-Citizens', 'of', 'the', 'United', 'States', ':', 'In', 'compliance', 'with', 'a', 'custom', 'as', 'old', 'as', 'the', 'Government', 'itself', ',', 'I', 'appear']\n"
     ]
    },
    {
     "name": "stderr",
     "output_type": "stream",
     "text": [
      "[nltk_data] Downloading package inaugural to\n",
      "[nltk_data]     C:\\Users\\Lalit\\AppData\\Roaming\\nltk_data...\n",
      "[nltk_data]   Package inaugural is already up-to-date!\n",
      "[nltk_data] Downloading package punkt_tab to\n",
      "[nltk_data]     C:\\Users\\Lalit\\AppData\\Roaming\\nltk_data...\n",
      "[nltk_data]   Package punkt_tab is already up-to-date!\n"
     ]
    }
   ],
   "source": [
    "import nltk\n",
    "from nltk.corpus import inaugural\n",
    "from nltk import word_tokenize\n",
    "\n",
    "# Download necessary resources\n",
    "nltk.download('inaugural')\n",
    "nltk.download('punkt_tab')\n",
    "\n",
    "# Access the 1861 inaugural address (Lincoln's address)\n",
    "address_1861 = inaugural.raw('1861-Lincoln.txt')\n",
    "\n",
    "# Tokenize the address into words\n",
    "address_words = word_tokenize(address_1861)\n",
    "\n",
    "# Get and print the first 20 words\n",
    "print(\"First 20 words of the 1861 inaugural address:\")\n",
    "print(address_words[:20])"
   ]
  },
  {
   "cell_type": "markdown",
   "id": "62326cb0",
   "metadata": {},
   "source": [
    "2. Write a Python program to find the frequency distribution of the words \"democracy\", \"freedom\", \"liberty\", and \"equality\" in all inaugural addresses using NLTK. [WITHOUT GRAPH]"
   ]
  },
  {
   "cell_type": "code",
   "execution_count": 19,
   "id": "cc5feaa4",
   "metadata": {},
   "outputs": [
    {
     "name": "stderr",
     "output_type": "stream",
     "text": [
      "[nltk_data] Downloading package inaugural to\n",
      "[nltk_data]     C:\\Users\\Lalit\\AppData\\Roaming\\nltk_data...\n",
      "[nltk_data]   Package inaugural is already up-to-date!\n",
      "[nltk_data] Downloading package punkt to\n",
      "[nltk_data]     C:\\Users\\Lalit\\AppData\\Roaming\\nltk_data...\n",
      "[nltk_data]   Package punkt is already up-to-date!\n"
     ]
    },
    {
     "name": "stdout",
     "output_type": "stream",
     "text": [
      "Frequency Distribution for Selected Words in Inaugural Addresses:\n",
      "democracy: 72\n",
      "freedom: 188\n",
      "liberty: 122\n",
      "equality: 26\n"
     ]
    }
   ],
   "source": [
    "import nltk\n",
    "from nltk.corpus import inaugural\n",
    "from nltk import word_tokenize, FreqDist\n",
    "\n",
    "# Download necessary resources\n",
    "nltk.download('inaugural')\n",
    "nltk.download('punkt')\n",
    "\n",
    "# List of target words (we'll count in lowercase for case-insensitivity)\n",
    "target_words = ['democracy', 'freedom', 'liberty', 'equality']\n",
    "\n",
    "# Combine all inaugural addresses into one text and tokenize\n",
    "all_inaug_text = \" \".join(inaugural.raw(fid) for fid in inaugural.fileids())\n",
    "tokens = word_tokenize(all_inaug_text.lower())\n",
    "\n",
    "# Create frequency distribution\n",
    "freq_dist = FreqDist(tokens)\n",
    "\n",
    "print(\"Frequency Distribution for Selected Words in Inaugural Addresses:\")\n",
    "for word in target_words:\n",
    "    print(f\"{word}: {freq_dist[word]}\")"
   ]
  },
  {
   "cell_type": "markdown",
   "id": "5fde258d",
   "metadata": {},
   "source": [
    "2. WITH GRAPH"
   ]
  },
  {
   "cell_type": "code",
   "execution_count": 20,
   "id": "73d0e9c9",
   "metadata": {},
   "outputs": [
    {
     "name": "stderr",
     "output_type": "stream",
     "text": [
      "[nltk_data] Downloading package inaugural to\n",
      "[nltk_data]     C:\\Users\\Lalit\\AppData\\Roaming\\nltk_data...\n",
      "[nltk_data]   Package inaugural is already up-to-date!\n"
     ]
    },
    {
     "data": {
      "image/png": "[encoded data removed]",
      "text/plain": [
       "<Figure size 1000x500 with 1 Axes>"
      ]
     },
     "metadata": {},
     "output_type": "display_data"
    }
   ],
   "source": [
    "import nltk\n",
    "from nltk.corpus import inaugural\n",
    "import matplotlib.pyplot as plt\n",
    "\n",
    "# Download the inaugural corpus if needed\n",
    "nltk.download('inaugural')\n",
    "\n",
    "# Initialize a dictionary to hold counts for 'freedom' in each address\n",
    "freedom_counts = {}\n",
    "\n",
    "for fileid in inaugural.fileids():\n",
    "    # Extract the year from the fileid (e.g., \"1861-Lincoln.txt\")\n",
    "    year = int(fileid.split('-')[0])\n",
    "    # Convert text to lowercase for case-insensitive counting\n",
    "    text_lower = inaugural.raw(fileid).lower()\n",
    "    freedom_counts[year] = text_lower.count(\"freedom\")\n",
    "\n",
    "# Prepare data for plotting: sort by year\n",
    "years = sorted(freedom_counts.keys())\n",
    "counts = [freedom_counts[year] for year in years]\n",
    "\n",
    "# Plot the frequency distribution\n",
    "plt.figure(figsize=(10, 5))\n",
    "plt.plot(years, counts, marker='o')\n",
    "plt.title(\"Frequency of 'freedom' in Inaugural Addresses Over the Years\")\n",
    "plt.xlabel(\"Year\")\n",
    "plt.ylabel(\"Frequency of 'freedom'\")\n",
    "plt.grid(True)\n",
    "plt.show()"
   ]
  },
  {
   "cell_type": "markdown",
   "id": "68a903e3",
   "metadata": {},
   "source": [
    "3. Write a Python program to display the 5 most common words in the text of \"Sense and Sensibility\" by Jane Austen using the Gutenberg Corpus."
   ]
  },
  {
   "cell_type": "code",
   "execution_count": 21,
   "id": "5aa3c1c4",
   "metadata": {},
   "outputs": [
    {
     "name": "stderr",
     "output_type": "stream",
     "text": [
      "[nltk_data] Downloading package gutenberg to\n",
      "[nltk_data]     C:\\Users\\Lalit\\AppData\\Roaming\\nltk_data...\n",
      "[nltk_data]   Package gutenberg is already up-to-date!\n",
      "[nltk_data] Downloading package punkt to\n",
      "[nltk_data]     C:\\Users\\Lalit\\AppData\\Roaming\\nltk_data...\n",
      "[nltk_data]   Package punkt is already up-to-date!\n",
      "[nltk_data] Downloading package stopwords to\n",
      "[nltk_data]     C:\\Users\\Lalit\\AppData\\Roaming\\nltk_data...\n",
      "[nltk_data]   Package stopwords is already up-to-date!\n"
     ]
    },
    {
     "name": "stdout",
     "output_type": "stream",
     "text": [
      "5 Most Common Words in 'Sense and Sensibility' (without filler words/punctuation):\n",
      "elinor: 684\n",
      "could: 578\n",
      "marianne: 565\n",
      "would: 515\n",
      "said: 396\n"
     ]
    }
   ],
   "source": [
    "import nltk\n",
    "from nltk.corpus import gutenberg, stopwords\n",
    "from nltk import word_tokenize, FreqDist\n",
    "import string\n",
    "\n",
    "# Download necessary resources\n",
    "nltk.download('gutenberg')\n",
    "nltk.download('punkt')\n",
    "nltk.download('stopwords')\n",
    "\n",
    "# Load \"Sense and Sensibility\" by Jane Austen\n",
    "text = gutenberg.raw('austen-sense.txt')\n",
    "\n",
    "# Tokenize and convert to lowercase\n",
    "tokens = word_tokenize(text.lower())\n",
    "\n",
    "# Define stopwords and punctuation\n",
    "stop_words = set(stopwords.words('english'))\n",
    "punctuation = set(string.punctuation)\n",
    "\n",
    "# Filter tokens: remove stopwords and punctuation, and only keep alphanumeric tokens\n",
    "filtered_tokens = [token for token in tokens if token.isalnum() and token not in stop_words]\n",
    "\n",
    "# Create frequency distribution and get the 5 most common words\n",
    "freq_dist = FreqDist(filtered_tokens)\n",
    "most_common = freq_dist.most_common(5)\n",
    "\n",
    "print(\"5 Most Common Words in 'Sense and Sensibility' (without filler words/punctuation):\")\n",
    "for word, count in most_common:\n",
    "    print(f\"{word}: {count}\")"
   ]
  },
  {
   "cell_type": "markdown",
   "id": "769d0760",
   "metadata": {},
   "source": [
    "4.\tGenerate a conditional frequency distribution of modal verbs ('can', 'could', 'may', 'might', 'must', 'will') across the categories of the Brown Corpus"
   ]
  },
  {
   "cell_type": "code",
   "execution_count": 22,
   "id": "eece39a3",
   "metadata": {},
   "outputs": [
    {
     "name": "stderr",
     "output_type": "stream",
     "text": [
      "[nltk_data] Downloading package brown to\n",
      "[nltk_data]     C:\\Users\\Lalit\\AppData\\Roaming\\nltk_data...\n",
      "[nltk_data]   Package brown is already up-to-date!\n"
     ]
    },
    {
     "name": "stdout",
     "output_type": "stream",
     "text": [
      "Conditional Frequency Distribution of Modal Verbs in the Brown Corpus:\n",
      "\n",
      "Category: adventure\n",
      "  can: 48\n",
      "  could: 154\n",
      "  may: 7\n",
      "  might: 59\n",
      "  must: 27\n",
      "  will: 51\n",
      "\n",
      "Category: belles_lettres\n",
      "  can: 249\n",
      "  could: 216\n",
      "  may: 221\n",
      "  might: 113\n",
      "  must: 171\n",
      "  will: 246\n",
      "\n",
      "Category: editorial\n",
      "  can: 124\n",
      "  could: 57\n",
      "  may: 79\n",
      "  might: 39\n",
      "  must: 55\n",
      "  will: 235\n",
      "\n",
      "Category: fiction\n",
      "  can: 39\n",
      "  could: 168\n",
      "  may: 10\n",
      "  might: 44\n",
      "  must: 55\n",
      "  will: 56\n",
      "\n",
      "Category: government\n",
      "  can: 119\n",
      "  could: 38\n",
      "  may: 179\n",
      "  might: 13\n",
      "  must: 102\n",
      "  will: 244\n",
      "\n",
      "Category: hobbies\n",
      "  can: 276\n",
      "  could: 59\n",
      "  may: 143\n",
      "  might: 22\n",
      "  must: 84\n",
      "  will: 269\n",
      "\n",
      "Category: humor\n",
      "  can: 17\n",
      "  could: 33\n",
      "  may: 8\n",
      "  might: 8\n",
      "  must: 9\n",
      "  will: 13\n",
      "\n",
      "Category: learned\n",
      "  can: 367\n",
      "  could: 159\n",
      "  may: 336\n",
      "  might: 128\n",
      "  must: 203\n",
      "  will: 340\n",
      "\n",
      "Category: lore\n",
      "  can: 170\n",
      "  could: 142\n",
      "  may: 170\n",
      "  might: 50\n",
      "  must: 96\n",
      "  will: 178\n",
      "\n",
      "Category: mystery\n",
      "  can: 45\n",
      "  could: 145\n",
      "  may: 15\n",
      "  might: 57\n",
      "  must: 31\n",
      "  will: 25\n",
      "\n",
      "Category: news\n",
      "  can: 94\n",
      "  could: 87\n",
      "  may: 93\n",
      "  might: 38\n",
      "  must: 53\n",
      "  will: 389\n",
      "\n",
      "Category: religion\n",
      "  can: 84\n",
      "  could: 59\n",
      "  may: 79\n",
      "  might: 12\n",
      "  must: 54\n",
      "  will: 72\n",
      "\n",
      "Category: reviews\n",
      "  can: 45\n",
      "  could: 40\n",
      "  may: 47\n",
      "  might: 26\n",
      "  must: 19\n",
      "  will: 61\n",
      "\n",
      "Category: romance\n",
      "  can: 79\n",
      "  could: 195\n",
      "  may: 11\n",
      "  might: 51\n",
      "  must: 46\n",
      "  will: 49\n",
      "\n",
      "Category: science_fiction\n",
      "  can: 16\n",
      "  could: 49\n",
      "  may: 4\n",
      "  might: 12\n",
      "  must: 8\n",
      "  will: 17\n"
     ]
    }
   ],
   "source": [
    "import nltk\n",
    "from nltk.corpus import brown\n",
    "from nltk import ConditionalFreqDist\n",
    "\n",
    "# Download the Brown corpus if necessary\n",
    "nltk.download('brown')\n",
    "\n",
    "# Define the modal verbs (in lowercase)\n",
    "modals = ['can', 'could', 'may', 'might', 'must', 'will']\n",
    "\n",
    "# Create a Conditional Frequency Distribution: condition is category, event is modal word occurrence.\n",
    "cfd = ConditionalFreqDist(\n",
    "    (category, word.lower())\n",
    "    for category in brown.categories()\n",
    "    for word in brown.words(categories=category)\n",
    "    if word.lower() in modals\n",
    ")\n",
    "\n",
    "# Display counts for each modal verb across categories\n",
    "print(\"Conditional Frequency Distribution of Modal Verbs in the Brown Corpus:\")\n",
    "for category in brown.categories():\n",
    "    print(f\"\\nCategory: {category}\")\n",
    "    for modal in modals:\n",
    "        print(f\"  {modal}: {cfd[category][modal]}\")"
   ]
  },
  {
   "cell_type": "markdown",
   "id": "cac96027",
   "metadata": {},
   "source": [
    "5.\tWrite a Python program to identify the longest word in \"Moby Dick\" from the Gutenberg Corpus."
   ]
  },
  {
   "cell_type": "code",
   "execution_count": 23,
   "id": "1ef327e2",
   "metadata": {},
   "outputs": [
    {
     "name": "stderr",
     "output_type": "stream",
     "text": [
      "[nltk_data] Downloading package gutenberg to\n",
      "[nltk_data]     C:\\Users\\Lalit\\AppData\\Roaming\\nltk_data...\n",
      "[nltk_data]   Package gutenberg is already up-to-date!\n",
      "[nltk_data] Downloading package punkt to\n",
      "[nltk_data]     C:\\Users\\Lalit\\AppData\\Roaming\\nltk_data...\n",
      "[nltk_data]   Package punkt is already up-to-date!\n"
     ]
    },
    {
     "name": "stdout",
     "output_type": "stream",
     "text": [
      "The longest word in 'Moby Dick' is: twelve-o'clock-at-night\n"
     ]
    }
   ],
   "source": [
    "import nltk\n",
    "from nltk.corpus import gutenberg\n",
    "from nltk import word_tokenize\n",
    "\n",
    "# Download Gutenberg corpus and tokenizer if needed\n",
    "nltk.download('gutenberg')\n",
    "nltk.download('punkt')\n",
    "\n",
    "# Load \"Moby Dick\" (file id: melville-moby_dick.txt)\n",
    "text = gutenberg.raw('melville-moby_dick.txt')\n",
    "tokens = word_tokenize(text)\n",
    "\n",
    "# Identify the longest word by length (if multiple, the first encountered is returned)\n",
    "longest_word = max(tokens, key=len)\n",
    "\n",
    "print(\"The longest word in 'Moby Dick' is:\",longest_word)"
   ]
  },
  {
   "cell_type": "markdown",
   "id": "0ffd76fa",
   "metadata": {},
   "source": [
    "6.\tUsing the Brown Corpus, calculate the frequency of the word \"government\" across all categories."
   ]
  },
  {
   "cell_type": "code",
   "execution_count": 24,
   "id": "b262661b",
   "metadata": {},
   "outputs": [
    {
     "name": "stderr",
     "output_type": "stream",
     "text": [
      "[nltk_data] Downloading package brown to\n",
      "[nltk_data]     C:\\Users\\Lalit\\AppData\\Roaming\\nltk_data...\n",
      "[nltk_data]   Package brown is already up-to-date!\n"
     ]
    },
    {
     "name": "stdout",
     "output_type": "stream",
     "text": [
      "Frequency of the word 'government' in the Brown Corpus: 418\n"
     ]
    }
   ],
   "source": [
    "import nltk\n",
    "from nltk.corpus import brown\n",
    "\n",
    "# Download the Brown corpus if needed\n",
    "nltk.download('brown')\n",
    "\n",
    "# Count occurrences of \"government\" (case-insensitive) in the entire Brown corpus\n",
    "all_words = [word.lower() for word in brown.words()]\n",
    "government_count = all_words.count(\"government\")\n",
    "\n",
    "print(\"Frequency of the word 'government' in the Brown Corpus:\",government_count)"
   ]
  },
  {
   "cell_type": "markdown",
   "id": "b07e2658",
   "metadata": {},
   "source": [
    "7.\tWrite a Python program using the Reuters Corpus to find the number of documents categorized under \"crude\"."
   ]
  },
  {
   "cell_type": "code",
   "execution_count": 25,
   "id": "724abfa3",
   "metadata": {},
   "outputs": [
    {
     "name": "stdout",
     "output_type": "stream",
     "text": [
      "Number of Reuters documents categorized under 'crude': 578\n"
     ]
    },
    {
     "name": "stderr",
     "output_type": "stream",
     "text": [
      "[nltk_data] Downloading package reuters to\n",
      "[nltk_data]     C:\\Users\\Lalit\\AppData\\Roaming\\nltk_data...\n",
      "[nltk_data]   Package reuters is already up-to-date!\n"
     ]
    }
   ],
   "source": [
    "import nltk\n",
    "from nltk.corpus import reuters\n",
    "\n",
    "# Download the Reuters corpus if necessary\n",
    "nltk.download('reuters')\n",
    "\n",
    "# Count the documents categorized under \"crude\"\n",
    "docs_crude = reuters.fileids(\"crude\")\n",
    "print(\"Number of Reuters documents categorized under 'crude':\",len(docs_crude))"
   ]
  }
 ],
 "metadata": {
  "kernelspec": {
   "display_name": "Python 3 (ipykernel)",
   "language": "python",
   "name": "python3"
  },
  "language_info": {
   "codemirror_mode": {
    "name": "ipython",
    "version": 3
   },
   "file_extension": ".py",
   "mimetype": "text/x-python",
   "name": "python",
   "nbconvert_exporter": "python",
   "pygments_lexer": "ipython3",
   "version": "3.11.5"
  }
 },
 "nbformat": 4,
 "nbformat_minor": 5
}
